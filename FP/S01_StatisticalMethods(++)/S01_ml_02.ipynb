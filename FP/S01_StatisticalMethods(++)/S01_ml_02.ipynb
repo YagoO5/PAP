{
 "cells": [
  {
   "cell_type": "markdown",
   "metadata": {},
   "source": [
    "# Unbinned maximum likelihood fit - Yago Obispo Gerster | mn304 | yago.obispo_gerster@stud.uni-heidelberg.de\n",
    "\n",
    "The probability denstiy function for the distribution of an angle $\\alpha$ is given by\n",
    "\n",
    "$$ f(x; a) = \\frac{1 + a x}{2}, \\quad x = \\cos \\alpha$$.\n",
    "\n",
    "The parameter $a$ is in the range $-1 \\le a \\le 1$.\n",
    "\n",
    "## Tasks\n",
    "\n",
    "a) Determine the maximum-likelihood estimate $\\hat a$ of the parameter $a$ and its uncertainty from the provided data sample using a numerical minimization tool, e.g., `iminuit` (see comments below).\n",
    "\n",
    "b) Plot the histogram representation of the data along with the fit function.\n",
    "\n",
    "c) Determine the uncertainties $\\sigma_a^-$ and $\\sigma_a^+$ defined by\n",
    "\n",
    "$$ \\ln L (\\hat a \\pm \\sigma_a) =  \\ln L_\\mathrm{max} - \\frac{1}{2} $$\n",
    "\n",
    "Compare your result with the result of `iminuit`'s `minos()` routine. Reduce the sample size of the data set by only taking the first $n$ events (`x[:n]`). At approximately which value of $n$ is the difference between $\\sigma_a^-$ and $\\sigma_a^+$ bigger than 5\\%? \n",
    "\n",
    "Use the data generation provided in the notebook `S01_ml_02_generate_data.ipynb`. It is recommended to actually generate a `CSV` file and read it back here. You don't necessarily have to hand in your generated data; the tutors can generate their own and since your implemented procedure is generic, it should work with any other dataset generated with `S01_ml_02_generate_data.ipynb`.\n",
    "\n",
    "\n",
    "### Hints\n",
    "\n",
    "It is recommended to not start coding right away. Try to really understand how the Likelihood looks first. Realize, what the Likelihood is a function of and what it describes.\n",
    "\n",
    "Also, the function imported as `from scipy.optimize import brentq` might come in handy.\n",
    "\n",
    "\n",
    "## Comments on Python's `iminuit`\n",
    "\n",
    "The KIP service has iminuit version 1.3.8. Please note that the most recent version is $\\geq2.0.0$ and that the [documentation](https://iminuit.readthedocs.io/en/stable/) applies to *that* version. Some backward-incompatible changes have been introduced, some of which changed some interfaces. For your tasks that mainly affects the `minuit.Minuit` constructor. The following shows the construction of a `Minuit` object for version 1.3.8 (in case you use the KIP service or a version $<2.0.0$) and $\\geq2.0.0$ (in case you use another service implementing a higher version), respectively.\n",
    "```python\n",
    "from iminuit import Minuit\n",
    "\n",
    "def func(par1, par2, ..., parN):\n",
    "    return minimise_something(par1, par2, ..., parN)\n",
    "\n",
    "# least squares method: errordef=1\n",
    "# likelihood method: errordef=0.5\n",
    "m = Minuit(func, par1=0.1, par2=0.1, ..., parN=0.1, errordef=1)\n",
    "```\n",
    "\n",
    "And this would be the equivalent workflow for versions >2.0.0\n",
    "```python\n",
    "from iminuit import Minuit\n",
    "\n",
    "def func(par1, par2, ..., parN):\n",
    "    return minimise_something(par1, par2, ..., parN)\n",
    "\n",
    "# least squares method: errordef=Minuit.LEAST_SQUARES\n",
    "# likelihood method: errordef=Minuit.LIKELIHOOD\n",
    "\n",
    "# add errordef as an attribute of your defined minimisation function which will be checked for when optimised\n",
    "func.errordef = Minuit.LEAST_SQUARES\n",
    "m = Minuit(func, par1=0.1, par2=0.1, ..., parN=0.1)\n",
    "```\n",
    "\n",
    "Another (potenitally) Jupiter related *feature* is the fact that `m.migrad()`, `m.matrix()`, `m.minos()` etc. can yield a nice summary of the respective procedure. However, in order to show it, either of these methods (and potentially others in case you use them) have to be *the last line of a code cell*. If there is *anything* coming afterwards, the output will not be printed, hence, for anything that follows, it is recommended to start a new code cell."
   ]
  },
  {
   "cell_type": "code",
   "execution_count": 1,
   "metadata": {},
   "outputs": [],
   "source": [
    "import numpy as np\n",
    "import matplotlib.pyplot as plt\n",
    "from iminuit import Minuit\n",
    "\n",
    "#Modules for more visual outputs\n",
    "from sympy import *\n",
    "from IPython.display import display, Latex"
   ]
  },
  {
   "cell_type": "code",
   "execution_count": 2,
   "metadata": {},
   "outputs": [],
   "source": [
    "x = np.loadtxt(\"ml_fit_data.csv\")\n",
    "x = x[:30]"
   ]
  },
  {
   "cell_type": "markdown",
   "metadata": {},
   "source": [
    "## Excercise a: Maximum likelihood estimate for parameter a and uncertainty\n",
    "\n",
    "In the first step, the goal is to compute the best estimate for the model parameter $a$ of which the probability density function is dependent, by using the maximum likelihood method.\n",
    "\n",
    "As we have already seen in previous notebooks, it is convenient to maximize the log-likelihood function, which in this cases takes the form:\n",
    "$$ lnL(x,a)=  ln\\left(\\prod\\limits_{i=1}^{n}f(x_i,a)\\right) = \\sum\\limits_{i=1}^{n} ln\\left(f(x_i,a)\\right)\n",
    " = \\sum\\limits_{i=1}^{n} ln\\left(\\frac{1 + a x_i}{2}\\right)$$\n",
    "\n",
    "By maximizing the log-likelihood function we will get the best estimate for the parameter $a$. As we want to use Minuits minimizing algorithms, we consider it aquivalent to maximize the likelihood function with minimizing the $-1\\times$ the likelihood function."
   ]
  },
  {
   "cell_type": "code",
   "execution_count": 3,
   "metadata": {},
   "outputs": [
    {
     "data": {
      "text/html": [
       "<table>\n",
       "    <tr>\n",
       "        <th colspan=\"5\" style=\"text-align:center\" title=\"Minimizer\"> Migrad </th>\n",
       "    </tr>\n",
       "    <tr>\n",
       "        <td colspan=\"2\" style=\"text-align:left\" title=\"Minimum value of function\"> FCN = 20.25 </td>\n",
       "        <td colspan=\"3\" style=\"text-align:center\" title=\"No. of function evaluations in last call and total number\"> Nfcn = 17 </td>\n",
       "    </tr>\n",
       "    <tr>\n",
       "        <td colspan=\"2\" style=\"text-align:left\" title=\"Estimated distance to minimum and goal\"> EDM = 1.13e-10 (Goal: 0.0001) </td>\n",
       "        <td colspan=\"3\" style=\"text-align:center\" title=\"No. of gradient evaluations in last call and total number\">  </td>\n",
       "    </tr>\n",
       "    <tr>\n",
       "        <td colspan=\"2\" style=\"text-align:center;background-color:#92CCA6;color:black\"> Valid Minimum </td>\n",
       "        <td colspan=\"3\" style=\"text-align:center;background-color:#92CCA6;color:black\"> No Parameters at limit </td>\n",
       "    </tr>\n",
       "    <tr>\n",
       "        <td colspan=\"2\" style=\"text-align:center;background-color:#92CCA6;color:black\"> Below EDM threshold (goal x 10) </td>\n",
       "        <td colspan=\"3\" style=\"text-align:center;background-color:#92CCA6;color:black\"> Below call limit </td>\n",
       "    </tr>\n",
       "    <tr>\n",
       "        <td style=\"text-align:center;background-color:#92CCA6;color:black\"> Covariance </td>\n",
       "        <td style=\"text-align:center;background-color:#92CCA6;color:black\"> Hesse ok </td>\n",
       "        <td style=\"text-align:center;background-color:#92CCA6;color:black\" title=\"Is covariance matrix accurate?\"> Accurate </td>\n",
       "        <td style=\"text-align:center;background-color:#92CCA6;color:black\" title=\"Is covariance matrix positive definite?\"> Pos. def. </td>\n",
       "        <td style=\"text-align:center;background-color:#92CCA6;color:black\" title=\"Was positive definiteness enforced by Minuit?\"> Not forced </td>\n",
       "    </tr>\n",
       "</table><table>\n",
       "    <tr>\n",
       "        <td></td>\n",
       "        <th title=\"Variable name\"> Name </th>\n",
       "        <th title=\"Value of parameter\"> Value </th>\n",
       "        <th title=\"Hesse error\"> Hesse Error </th>\n",
       "        <th title=\"Minos lower error\"> Minos Error- </th>\n",
       "        <th title=\"Minos upper error\"> Minos Error+ </th>\n",
       "        <th title=\"Lower limit of the parameter\"> Limit- </th>\n",
       "        <th title=\"Upper limit of the parameter\"> Limit+ </th>\n",
       "        <th title=\"Is the parameter fixed in the fit\"> Fixed </th>\n",
       "    </tr>\n",
       "    <tr>\n",
       "        <th> 0 </th>\n",
       "        <td> a </td>\n",
       "        <td> 0.32 </td>\n",
       "        <td> 0.30 </td>\n",
       "        <td>  </td>\n",
       "        <td>  </td>\n",
       "        <td>  </td>\n",
       "        <td>  </td>\n",
       "        <td>  </td>\n",
       "    </tr>\n",
       "</table><table>\n",
       "    <tr>\n",
       "        <td></td>\n",
       "        <th> a </th>\n",
       "    </tr>\n",
       "    <tr>\n",
       "        <th> a </th>\n",
       "        <td> 0.0893 </td>\n",
       "    </tr>\n",
       "</table>"
      ],
      "text/plain": [
       "┌─────────────────────────────────────────────────────────────────────────┐\n",
       "│                                Migrad                                   │\n",
       "├──────────────────────────────────┬──────────────────────────────────────┤\n",
       "│ FCN = 20.25                      │              Nfcn = 17               │\n",
       "│ EDM = 1.13e-10 (Goal: 0.0001)    │                                      │\n",
       "├──────────────────────────────────┼──────────────────────────────────────┤\n",
       "│          Valid Minimum           │        No Parameters at limit        │\n",
       "├──────────────────────────────────┼──────────────────────────────────────┤\n",
       "│ Below EDM threshold (goal x 10)  │           Below call limit           │\n",
       "├───────────────┬──────────────────┼───────────┬─────────────┬────────────┤\n",
       "│  Covariance   │     Hesse ok     │ Accurate  │  Pos. def.  │ Not forced │\n",
       "└───────────────┴──────────────────┴───────────┴─────────────┴────────────┘\n",
       "┌───┬──────┬───────────┬───────────┬────────────┬────────────┬─────────┬─────────┬───────┐\n",
       "│   │ Name │   Value   │ Hesse Err │ Minos Err- │ Minos Err+ │ Limit-  │ Limit+  │ Fixed │\n",
       "├───┼──────┼───────────┼───────────┼────────────┼────────────┼─────────┼─────────┼───────┤\n",
       "│ 0 │ a    │   0.32    │   0.30    │            │            │         │         │       │\n",
       "└───┴──────┴───────────┴───────────┴────────────┴────────────┴─────────┴─────────┴───────┘\n",
       "┌───┬────────┐\n",
       "│   │      a │\n",
       "├───┼────────┤\n",
       "│ a │ 0.0893 │\n",
       "└───┴────────┘"
      ]
     },
     "execution_count": 3,
     "metadata": {},
     "output_type": "execute_result"
    }
   ],
   "source": [
    "# Minimize the minus-log-likelihood function by using Minuit\n",
    "def minus_log_likely(a):\n",
    "    return -np.sum(np.log((1+a*x)/2))\n",
    "\n",
    "minus_log_likely.errordef = Minuit.LIKELIHOOD\n",
    "a_best = Minuit(minus_log_likely, a=0.2)\n",
    "a_best.migrad()"
   ]
  },
  {
   "cell_type": "code",
   "execution_count": 4,
   "metadata": {},
   "outputs": [
    {
     "name": "stdout",
     "output_type": "stream",
     "text": [
      "ML best estimate for a: 0.3+/-0.3\n"
     ]
    }
   ],
   "source": [
    "a_fit = a_best.values[0]\n",
    "sig_a_fit = a_best.errors[0]\n",
    "print(r\"ML best estimate for a: \"+str(np.round(a_fit,1))+r\"+/-\"+str(np.round(sig_a_fit,1)))"
   ]
  },
  {
   "cell_type": "markdown",
   "metadata": {},
   "source": [
    "## Excercise b: Histogram representation of the data\n",
    "\n",
    "The data can be plotted in a histograd, along with the fit function, which corresponds to the probability density function with the adjustment, that the parameter $a$ will be set to the estimated value in part a)."
   ]
  },
  {
   "cell_type": "code",
   "execution_count": 5,
   "metadata": {},
   "outputs": [
    {
     "data": {
      "image/png": "[encoded data removed]",
      "text/plain": [
       "<Figure size 432x288 with 2 Axes>"
      ]
     },
     "metadata": {},
     "output_type": "display_data"
    }
   ],
   "source": [
    "#Plot histogram and fit best fit function\n",
    "def fit_func(xc,ac):\n",
    "    return (1+ac*xc)/2\n",
    "\n",
    "xd = np.linspace(-1,1,100)\n",
    "\n",
    "fig,links = plt.subplots()\n",
    "\n",
    "plt.grid()\n",
    "links.set_title(\"Histogram representation of the data\")\n",
    "links.set_xlabel(r\"cos($\\alpha$)\")\n",
    "links.set_ylabel(\"Measurement frequency\")\n",
    "links.hist(x,label=\"Data\")\n",
    "\n",
    "rechts = links.twinx()\n",
    "rechts.plot(xd,fit_func(xd,a_fit),color=\"orange\",label=\"Max.Lik. Fit\")\n",
    "rechts.set_ylabel(\"Probability density f(x,a)\",color=\"orange\")\n",
    "rechts.tick_params(axis=\"y\",labelcolor=\"orange\")"
   ]
  },
  {
   "cell_type": "markdown",
   "metadata": {},
   "source": [
    "From the measurement frequency of our data we can see, that higher values for $x$ are more often measured. The fitted probability density function at first glance describes the probability of measuring a certain value for $x$ really good."
   ]
  },
  {
   "cell_type": "markdown",
   "metadata": {},
   "source": [
    "## Excercise c: Uncertainties\n",
    "\n",
    "We do now proceed to compute the uncertainties $\\sigma_a^+$ and $\\sigma_a^-$, defined by\n",
    "$$ \\ln L (\\hat a \\pm \\sigma_a) =  \\ln L_\\mathrm{max} - \\frac{1}{2} $$\n",
    "\n",
    "As we have already computed the best model parameter $a$, we can plug it in the definition of the log-likelihood function and directly get $\\ln L_\\mathrm{max}$. Then we can define two functions, one being the left and the other the right side of the equation. Here we are interested in the interserction points, which turn out to be $\\hat a \\pm \\sigma_a$. "
   ]
  },
  {
   "cell_type": "code",
   "execution_count": 6,
   "metadata": {},
   "outputs": [
    {
     "data": {
      "text/plain": [
       "<matplotlib.legend.Legend at 0x7fd4fcfe8400>"
      ]
     },
     "execution_count": 6,
     "metadata": {},
     "output_type": "execute_result"
    },
    {
     "data": {
      "image/png": "[encoded data removed]",
      "text/plain": [
       "<Figure size 432x288 with 1 Axes>"
      ]
     },
     "metadata": {
      "needs_background": "light"
     },
     "output_type": "display_data"
    }
   ],
   "source": [
    "#Define the functions on the left and right side of the equation\n",
    "def left_func(p):\n",
    "    return -minus_log_likely(p)\n",
    "def right_func(p):\n",
    "    return p*0 -minus_log_likely(a_fit) - 1/2\n",
    "\n",
    "ad = np.linspace(-1,1,100)\n",
    "\n",
    "left_func_results= list()\n",
    "for a in ad:\n",
    "    left_func_results.append(left_func(a))\n",
    "plt.grid()\n",
    "plt.title(\"Finding intersection points of left and right side\")\n",
    "plt.plot(ad,left_func_results,label=\"left side\")\n",
    "plt.plot(ad,right_func(ad),label=\"right side\")\n",
    "plt.xlabel(\"a\")\n",
    "plt.ylim(-minus_log_likely(a_fit)-4,-minus_log_likely(a_fit)+1)\n",
    "plt.legend()"
   ]
  },
  {
   "cell_type": "markdown",
   "metadata": {},
   "source": [
    "We can compute the intersection points in python by using $\\textit{np.argwhere(np.diff(np.sign(left - right))).flatten()}$. Here, the difference of both functions is calculated, np.sign gives us the corresponding sign, np.diff reveals us, at which points the sign changes (intersection points) and np.argwhere returns the exact indices."
   ]
  },
  {
   "cell_type": "code",
   "execution_count": 7,
   "metadata": {},
   "outputs": [
    {
     "data": {
      "text/plain": [
       "<matplotlib.legend.Legend at 0x7fd4fa1dac50>"
      ]
     },
     "execution_count": 7,
     "metadata": {},
     "output_type": "execute_result"
    },
    {
     "data": {
      "image/png": "[encoded data removed]",
      "text/plain": [
       "<Figure size 432x288 with 1 Axes>"
      ]
     },
     "metadata": {
      "needs_background": "light"
     },
     "output_type": "display_data"
    }
   ],
   "source": [
    "#Compute intersection points\n",
    "intersection = np.argwhere(np.diff(np.sign(left_func_results - right_func(0)))).flatten()\n",
    "\n",
    "#Plot with intersection points\n",
    "plt.grid()\n",
    "plt.title(\"Finding intersection points of left and right side\")\n",
    "plt.plot(ad,left_func_results,label=\"left side\")\n",
    "plt.plot(ad,right_func(ad),label=\"right side\")\n",
    "plt.xlabel(\"a\")\n",
    "plt.ylim(-minus_log_likely(a_fit)-4,-minus_log_likely(a_fit)+1)\n",
    "\n",
    "plt.plot(ad[intersection[0]],left_func(ad[intersection[0]]),\"ro\")\n",
    "plt.plot(ad[intersection[1]],left_func(ad[intersection[1]]),\"ro\")\n",
    "\n",
    "plt.legend()"
   ]
  },
  {
   "cell_type": "code",
   "execution_count": 8,
   "metadata": {},
   "outputs": [
    {
     "name": "stdout",
     "output_type": "stream",
     "text": [
      "sigma_-: 0.3136785128962582\n",
      "sigma_+: 0.27218007296232766\n"
     ]
    }
   ],
   "source": [
    "#Compute sig_+ and sig_- with the results\n",
    "print(r\"sigma_-: {}\".format(a_fit - ad[intersection[0]]))\n",
    "print(r\"sigma_+: {}\".format(ad[intersection[1]]-a_fit))"
   ]
  },
  {
   "cell_type": "markdown",
   "metadata": {},
   "source": [
    "In the next step, I will compare the results with the results of the Minuit Minos Algorithm."
   ]
  },
  {
   "cell_type": "code",
   "execution_count": 9,
   "metadata": {},
   "outputs": [
    {
     "data": {
      "text/html": [
       "<table>\n",
       "    <tr>\n",
       "        <th colspan=\"5\" style=\"text-align:center\" title=\"Minimizer\"> Migrad </th>\n",
       "    </tr>\n",
       "    <tr>\n",
       "        <td colspan=\"2\" style=\"text-align:left\" title=\"Minimum value of function\"> FCN = 20.25 </td>\n",
       "        <td colspan=\"3\" style=\"text-align:center\" title=\"No. of function evaluations in last call and total number\"> Nfcn = 22 </td>\n",
       "    </tr>\n",
       "    <tr>\n",
       "        <td colspan=\"2\" style=\"text-align:left\" title=\"Estimated distance to minimum and goal\"> EDM = 1.13e-10 (Goal: 0.0001) </td>\n",
       "        <td colspan=\"3\" style=\"text-align:center\" title=\"No. of gradient evaluations in last call and total number\">  </td>\n",
       "    </tr>\n",
       "    <tr>\n",
       "        <td colspan=\"2\" style=\"text-align:center;background-color:#92CCA6;color:black\"> Valid Minimum </td>\n",
       "        <td colspan=\"3\" style=\"text-align:center;background-color:#92CCA6;color:black\"> No Parameters at limit </td>\n",
       "    </tr>\n",
       "    <tr>\n",
       "        <td colspan=\"2\" style=\"text-align:center;background-color:#92CCA6;color:black\"> Below EDM threshold (goal x 10) </td>\n",
       "        <td colspan=\"3\" style=\"text-align:center;background-color:#92CCA6;color:black\"> Below call limit </td>\n",
       "    </tr>\n",
       "    <tr>\n",
       "        <td style=\"text-align:center;background-color:#92CCA6;color:black\"> Covariance </td>\n",
       "        <td style=\"text-align:center;background-color:#92CCA6;color:black\"> Hesse ok </td>\n",
       "        <td style=\"text-align:center;background-color:#92CCA6;color:black\" title=\"Is covariance matrix accurate?\"> Accurate </td>\n",
       "        <td style=\"text-align:center;background-color:#92CCA6;color:black\" title=\"Is covariance matrix positive definite?\"> Pos. def. </td>\n",
       "        <td style=\"text-align:center;background-color:#92CCA6;color:black\" title=\"Was positive definiteness enforced by Minuit?\"> Not forced </td>\n",
       "    </tr>\n",
       "</table><table>\n",
       "    <tr>\n",
       "        <td></td>\n",
       "        <th title=\"Variable name\"> Name </th>\n",
       "        <th title=\"Value of parameter\"> Value </th>\n",
       "        <th title=\"Hesse error\"> Hesse Error </th>\n",
       "        <th title=\"Minos lower error\"> Minos Error- </th>\n",
       "        <th title=\"Minos upper error\"> Minos Error+ </th>\n",
       "        <th title=\"Lower limit of the parameter\"> Limit- </th>\n",
       "        <th title=\"Upper limit of the parameter\"> Limit+ </th>\n",
       "        <th title=\"Is the parameter fixed in the fit\"> Fixed </th>\n",
       "    </tr>\n",
       "    <tr>\n",
       "        <th> 0 </th>\n",
       "        <td> a </td>\n",
       "        <td> 0.32 </td>\n",
       "        <td> 0.30 </td>\n",
       "        <td> -0.31 </td>\n",
       "        <td> 0.28 </td>\n",
       "        <td>  </td>\n",
       "        <td>  </td>\n",
       "        <td>  </td>\n",
       "    </tr>\n",
       "</table><table>\n",
       "    <tr>\n",
       "        <td></td>\n",
       "        <th colspan=\"2\" style=\"text-align:center\" title=\"Parameter name\"> a </th>\n",
       "    </tr>\n",
       "    <tr>\n",
       "        <th title=\"Lower and upper minos error of the parameter\"> Error </th>\n",
       "        <td> -0.31 </td>\n",
       "        <td> 0.28 </td>\n",
       "    </tr>\n",
       "    <tr>\n",
       "        <th title=\"Validity of lower/upper minos error\"> Valid </th>\n",
       "        <td style=\"background-color:#92CCA6;color:black\"> True </td>\n",
       "        <td style=\"background-color:#92CCA6;color:black\"> True </td>\n",
       "    </tr>\n",
       "    <tr>\n",
       "        <th title=\"Did scan hit limit of any parameter?\"> At Limit </th>\n",
       "        <td style=\"background-color:#92CCA6;color:black\"> False </td>\n",
       "        <td style=\"background-color:#92CCA6;color:black\"> False </td>\n",
       "    </tr>\n",
       "    <tr>\n",
       "        <th title=\"Did scan hit function call limit?\"> Max FCN </th>\n",
       "        <td style=\"background-color:#92CCA6;color:black\"> False </td>\n",
       "        <td style=\"background-color:#92CCA6;color:black\"> False </td>\n",
       "    </tr>\n",
       "    <tr>\n",
       "        <th title=\"New minimum found when doing scan?\"> New Min </th>\n",
       "        <td style=\"background-color:#92CCA6;color:black\"> False </td>\n",
       "        <td style=\"background-color:#92CCA6;color:black\"> False </td>\n",
       "    </tr>\n",
       "</table><table>\n",
       "    <tr>\n",
       "        <td></td>\n",
       "        <th> a </th>\n",
       "    </tr>\n",
       "    <tr>\n",
       "        <th> a </th>\n",
       "        <td> 0.0893 </td>\n",
       "    </tr>\n",
       "</table>"
      ],
      "text/plain": [
       "┌─────────────────────────────────────────────────────────────────────────┐\n",
       "│                                Migrad                                   │\n",
       "├──────────────────────────────────┬──────────────────────────────────────┤\n",
       "│ FCN = 20.25                      │              Nfcn = 22               │\n",
       "│ EDM = 1.13e-10 (Goal: 0.0001)    │                                      │\n",
       "├──────────────────────────────────┼──────────────────────────────────────┤\n",
       "│          Valid Minimum           │        No Parameters at limit        │\n",
       "├──────────────────────────────────┼──────────────────────────────────────┤\n",
       "│ Below EDM threshold (goal x 10)  │           Below call limit           │\n",
       "├───────────────┬──────────────────┼───────────┬─────────────┬────────────┤\n",
       "│  Covariance   │     Hesse ok     │ Accurate  │  Pos. def.  │ Not forced │\n",
       "└───────────────┴──────────────────┴───────────┴─────────────┴────────────┘\n",
       "┌───┬──────┬───────────┬───────────┬────────────┬────────────┬─────────┬─────────┬───────┐\n",
       "│   │ Name │   Value   │ Hesse Err │ Minos Err- │ Minos Err+ │ Limit-  │ Limit+  │ Fixed │\n",
       "├───┼──────┼───────────┼───────────┼────────────┼────────────┼─────────┼─────────┼───────┤\n",
       "│ 0 │ a    │   0.32    │   0.30    │   -0.31    │    0.28    │         │         │       │\n",
       "└───┴──────┴───────────┴───────────┴────────────┴────────────┴─────────┴─────────┴───────┘\n",
       "┌──────────┬───────────────────────┐\n",
       "│          │           a           │\n",
       "├──────────┼───────────┬───────────┤\n",
       "│  Error   │   -0.31   │   0.28    │\n",
       "│  Valid   │   True    │   True    │\n",
       "│ At Limit │   False   │   False   │\n",
       "│ Max FCN  │   False   │   False   │\n",
       "│ New Min  │   False   │   False   │\n",
       "└──────────┴───────────┴───────────┘\n",
       "┌───┬────────┐\n",
       "│   │      a │\n",
       "├───┼────────┤\n",
       "│ a │ 0.0893 │\n",
       "└───┴────────┘"
      ]
     },
     "execution_count": 9,
     "metadata": {},
     "output_type": "execute_result"
    }
   ],
   "source": [
    "a_best.minos()"
   ]
  },
  {
   "cell_type": "markdown",
   "metadata": {},
   "source": [
    "We can observe, that the computed uncertainties agree in both methods.\n",
    "\n",
    "In the last step of this notebook, we are going to reduce the sample size of the data by only taking the first $n$ events $x[:n]$ and then we ask ourselves, at which $n$ the difference between $\\sigma_+$ and $\\sigma_-$ gets bigger than $5\\%$.\n",
    "The relative difference $r$ can be computed by using:\n",
    "$$r = \\frac{|\\sigma_{+}-\\sigma{-}|}{\\frac{\\sigma_{+}+\\sigma{-}}{2}} = \\frac{2|\\sigma_{+}-\\sigma{-}|}{\\sigma_{+}+\\sigma{-}}$$"
   ]
  },
  {
   "cell_type": "code",
   "execution_count": 10,
   "metadata": {},
   "outputs": [
    {
     "data": {
      "text/plain": [
       "[<matplotlib.lines.Line2D at 0x7fd4fa160a58>]"
      ]
     },
     "execution_count": 10,
     "metadata": {},
     "output_type": "execute_result"
    },
    {
     "data": {
      "image/png": "[encoded data removed]",
      "text/plain": [
       "<Figure size 936x504 with 1 Axes>"
      ]
     },
     "metadata": {
      "needs_background": "light"
     },
     "output_type": "display_data"
    }
   ],
   "source": [
    "x_new = np.loadtxt(\"ml_fit_data.csv\")[:125]\n",
    "\n",
    "#relative_difference is a list which contains all the relative differences for sample sizes from 9 to 100\n",
    "relative_difference = list()\n",
    "\n",
    "#Loop over sample sizes between 9 and 100 (9 as starting point, because minos algorithm did not converge elsewise - here irrelevant as the 5% cut occurs at a later point)\n",
    "for i in range(9,len(x_new)):\n",
    "    def minus_log_likely(a):\n",
    "        return -np.sum(np.log((1+a*x_new[:i]))) + len(x_new[:i])*np.log(2) \n",
    "\n",
    "    minus_log_likely.errordef = Minuit.LIKELIHOOD\n",
    "    a_best = Minuit(minus_log_likely, a=0)\n",
    "    a_best.migrad()\n",
    "    a_best.minos()\n",
    "    \n",
    "    sig_minus= a_best.merrors[0].lower\n",
    "    sig_plus= a_best.merrors[0].upper\n",
    "    \n",
    "    #Compute the relative differences\n",
    "    relative_difference.append((2*np.abs(np.abs(sig_plus)-np.abs(sig_minus))/(np.abs(sig_plus) + np.abs(sig_minus))) *100)\n",
    "\n",
    "#Plot the relative differences for different n\n",
    "plt.figure(figsize=(13,7))\n",
    "plt.title(\"Relative difference to sample size\")\n",
    "plt.grid()\n",
    "plt.plot(range(9,len(x_new)),relative_difference,\"x\",markersize=5)\n",
    "plt.xlabel(\"Sample size n\")\n",
    "plt.ylabel(\"Relative difference in %\")\n",
    "\n",
    "#Draw line at 5% to make approximate statement when the relative difference becomes bigger than 5%\n",
    "xd = np.linspace(9,125,100)\n",
    "plt.plot(xd,5+xd*0)"
   ]
  },
  {
   "cell_type": "markdown",
   "metadata": {},
   "source": [
    "As on this graph it is difficult to estimate, at which point the relative difference becomes higher than $5\\%$, we can draw another graph zooming in in the interested position."
   ]
  },
  {
   "cell_type": "code",
   "execution_count": 11,
   "metadata": {},
   "outputs": [
    {
     "data": {
      "text/plain": [
       "<matplotlib.collections.LineCollection at 0x7fd4fa1c9c88>"
      ]
     },
     "execution_count": 11,
     "metadata": {},
     "output_type": "execute_result"
    },
    {
     "data": {
      "image/png": "[encoded data removed]",
      "text/plain": [
       "<Figure size 936x504 with 1 Axes>"
      ]
     },
     "metadata": {
      "needs_background": "light"
     },
     "output_type": "display_data"
    }
   ],
   "source": [
    "#Same code but zooming in the interesting part, where the threshold of 5% is passed\n",
    "plt.figure(figsize=(13,7))\n",
    "plt.title(\"Relative difference to sample size\")\n",
    "plt.grid()\n",
    "plt.plot(range(60,125),relative_difference[60-9:],\"x\",markersize=5)\n",
    "plt.xlabel(\"Sample size n\")\n",
    "plt.ylabel(\"Relative difference in %\")\n",
    "\n",
    "#Draw line at 5% to make approximate statement when the relative difference becomes bigger than 5%\n",
    "xd = np.linspace(70,125,100)\n",
    "plt.plot(xd,5+xd*0)\n",
    "\n",
    "#Estimate threshold by drawing a vertical line\n",
    "plt.vlines(90,0,25,color=\"red\")"
   ]
  },
  {
   "cell_type": "markdown",
   "metadata": {},
   "source": [
    "From the graph we can see, that the relative difference firstly becomes bigger than $5\\%$ for sample sizes smaller than $91$."
   ]
  }
 ],
 "metadata": {
  "kernelspec": {
   "display_name": "Python 3",
   "language": "python",
   "name": "python3"
  },
  "language_info": {
   "codemirror_mode": {
    "name": "ipython",
    "version": 3
   },
   "file_extension": ".py",
   "mimetype": "text/x-python",
   "name": "python",
   "nbconvert_exporter": "python",
   "pygments_lexer": "ipython3",
   "version": "3.7.3"
  }
 },
 "nbformat": 4,
 "nbformat_minor": 4
}
