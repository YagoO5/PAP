{
 "cells": [
  {
   "cell_type": "markdown",
   "metadata": {},
   "source": [
    "# Error propagation - Yago Obispo Gerster | mn304 | yago.obispo_gerster@stud.uni-heidelberg.de\n",
    "\n",
    "a) Propagate uncertainties for the following expressions using [SymPy](https://www.sympy.org) following the examples for [uncorrelated variables](https://nbviewer.jupyter.org/urls/www.physi.uni-heidelberg.de/Einrichtungen/FP/Datenanalyse/FP_Gaussian_error_propagation.ipynb?flush_cache=false) and [correlated variables](https://nbviewer.jupyter.org/urls/www.physi.uni-heidelberg.de/Einrichtungen/FP/Datenanalyse/FP_Gaussian_error_propagation_corr.ipynb?flush_cache=false) from the FP web page.\n",
    "\n",
    "i) Find expressions for the absolute uncertainty $\\sigma_z$ for $z = x + y$ and $z = x - y$ \n",
    "\n",
    "ii) Find expressions for the relative uncertainty $\\sigma_z / z$ for $z = x \\cdot y, \\; z = x / y$ and $z = x^n y^n$\n",
    "\n",
    "iii) The acceleration of gravity with a simple pendulum is given by the following formula:\n",
    "$$g = 4  \\pi^2 \\frac{L}{T^2}$$\n",
    "The relevant variables are the length $L$ of the pendulum and the period $T$ with the corresponding errors $\\sigma_L$ and $\\sigma_T$.\n",
    "\n",
    "b) The radius $r$ and the height $h$ of a cylinder have been measured to $r = 2$ cm and $h = 3$ cm. The uncertainty for both measurements is $\\sigma = 0.05$ cm. Determine the volume of the cylinder and its uncertainty assuming (i) that both measurements are uncorrelated and (ii) that both measurements are fully correlated.\n",
    "\n",
    "c) The scattering angle and the radial distance of a certain particle can be determined from a position measurement $(x,y)$ \n",
    "$$r = \\sqrt{x^2 + y^2}, \\quad \\theta = \\mathrm{atan2}(y, x)$$\n",
    "You find more on the [atan2](https://en.wikipedia.org/wiki/Atan2) function on wikipedia. The position ($x$,$y$) is measured with the corresponding uncertainties $\\sigma_x$ and $\\sigma_y$. Write a python function that returns the covariance matrix $U$ of $r$ and $\\theta$ for a given covariance matrix $V$ of $x$ and $y$. Determine $U$ under the assumption that $x$ and $y$ are uncorrelated. Hint: The formulas you need can be found in the script.\n"
   ]
  },
  {
   "cell_type": "markdown",
   "metadata": {},
   "source": [
    "### Solution"
   ]
  },
  {
   "cell_type": "code",
   "execution_count": 1,
   "metadata": {},
   "outputs": [],
   "source": [
    "from sympy import *\n",
    "from IPython.display import display, Latex\n",
    "import numpy as np"
   ]
  },
  {
   "cell_type": "markdown",
   "metadata": {},
   "source": [
    "For the solutions we will often need to compute the uncertainty of a variable which is composed of other variables, which might be correlated or not. Therefore, we first define two functions - one for the non-correlated and one for the correlated case."
   ]
  },
  {
   "cell_type": "markdown",
   "metadata": {},
   "source": [
    "### Not correlated case function\n",
    "As we have derived from a first order taylor expansion, the uncertainty of a composed variable $z(x_1,...,x_N)$ is given by\n",
    "$$\\sigma_z = \\sqrt{\\sum\\limits_{i=1}^{n}\\left(\\frac{\\partial z}{\\partial x_i} \\big{|}_{x_i}\\right)^2 \\sigma_i^2} $$\n",
    "under the assumption that the variables are not correlated and that $x_1,...x_N$ are normally distributed around their true values with corresponding standard deviations $\\sigma_1,...,\\sigma_N$ (Gaussian error propagation)."
   ]
  },
  {
   "cell_type": "code",
   "execution_count": 2,
   "metadata": {},
   "outputs": [],
   "source": [
    "#Function for the non correlated case\n",
    "def error_prop(f, vars):\n",
    "    \"\"\"    \n",
    "    f: formula (as a Sympy expression)\n",
    "    vars: list of independent variables and corresponding uncertainties [(x1, sigma_x1), (x2, sigma_x2), ...]\n",
    "    \n",
    "    return value: sympy expression for the uncertainty of the calculated expression f\n",
    "\n",
    "    \"\"\"\n",
    "    #Initialize empty SymPy expression to which we will add expressions\n",
    "    sum = S(0)\n",
    "    \n",
    "    #Iterate through the vars list and add the contributing summand to the SymPy expression; diff(f,x) from the SymPy library differentiates f with respect to x\n",
    "    for (x, sigma) in vars:\n",
    "        sum += diff(f, x)**2 * sigma**2 \n",
    "    return sqrt(simplify(sum)) #According to derived formula"
   ]
  },
  {
   "cell_type": "markdown",
   "metadata": {},
   "source": [
    "### Correlated case function\n",
    "The same function can be programmed for the correlated case. Here we need to use the formula for the correlated case. Given the covariance matrix V, the uncertainty can be computed with\n",
    "$$\\sigma_z = \\sqrt{\\sum\\limits_{i,j=1}^{n}\\left(\\frac{\\partial z}{\\partial x_i}\\frac{\\partial z}{\\partial x_j}V_{ij} \\right)} $$"
   ]
  },
  {
   "cell_type": "code",
   "execution_count": 3,
   "metadata": {},
   "outputs": [],
   "source": [
    "def error_prop_corr(f, x, V):\n",
    "    \"\"\"\n",
    "    f: function f = f(x[0], x[1], ...)\n",
    "    x: list of variables\n",
    "    V: covariance matrix (python 2d list)\n",
    "    \"\"\"\n",
    "    #Initialize empty SymPy expression to which we will add expressions\n",
    "    sum = S(0)\n",
    "    \n",
    "    #Iterate through\n",
    "    for i in range(len(x)):\n",
    "        for j in range(len(x)):\n",
    "            sum += diff(f, x[i]) * diff(f, x[j]) * V[i][j] #Formula summands correlated case\n",
    "    return sqrt(simplify(sum))"
   ]
  },
  {
   "cell_type": "markdown",
   "metadata": {},
   "source": [
    "## Excercise a: Uncertainities using SymPy\n",
    "\n",
    "We can use Gaussian Error Propagation in order to determine the Variation of a quantity $z(x,y)$. Therefore we make a first order Taylor expansion for $z(x,y)$ around the means, observe that the expectation value of $z(x,y)$ is $z(\\mu_x,\\mu_y)$ and use it to compute $\\sigma_z^2 = E[(z(x,y)-z(\\mu_x,\\mu_y))^2]$ - where E stands for the expectation value.\n",
    "\n",
    "We obtain:\n",
    "$$ \\sigma_z^2 = \\left(\\frac{\\partial z}{\\partial x}\\right)^2\\sigma_x^2 + \\left(\\frac{\\partial z}{\\partial y}\\right)^2 \\sigma_y^2 + 2\\left(\\frac{\\partial z}{\\partial x}\\right)\\left(\\frac{\\partial z}{\\partial y}\\right)\\rho\\sigma_x\\sigma_y$$\n",
    "\n",
    "Where $\\rho$ is the correlation coefficient.\n",
    "\n",
    "So in order to determine the absolute uncertainity of $z_1 = x+y$ and $z_2 = x-y$ we can directly use the functions which we already programmed."
   ]
  },
  {
   "cell_type": "code",
   "execution_count": 4,
   "metadata": {},
   "outputs": [
    {
     "data": {
      "text/latex": [
       "$$(z=x+y):\\ \\ \\sigma_z = \\sqrt{2 \\rho \\sigma_{x} \\sigma_{y} + \\sigma_{x}^{2} + \\sigma_{y}^{2}}$$"
      ],
      "text/plain": [
       "<IPython.core.display.Latex object>"
      ]
     },
     "metadata": {},
     "output_type": "display_data"
    },
    {
     "data": {
      "text/latex": [
       "$$(z=x-y):\\ \\ \\sigma_z = \\sqrt{- 2 \\rho \\sigma_{x} \\sigma_{y} + \\sigma_{x}^{2} + \\sigma_{y}^{2}}$$"
      ],
      "text/plain": [
       "<IPython.core.display.Latex object>"
      ]
     },
     "metadata": {},
     "output_type": "display_data"
    }
   ],
   "source": [
    "# (i)\n",
    "#Define variables as symbols\n",
    "x,y,sig_x,sig_y,rho = symbols('x, y, sigma_x, sigma_y,rho')\n",
    "\n",
    "#Define the on x and y dependent quanitities\n",
    "z_1 = x+y\n",
    "z_2 = x-y\n",
    "\n",
    "#Define the covariance Matrix according to definition\n",
    "C = [[sig_x**2, rho * sig_x * sig_y], [rho * sig_x * sig_y, sig_y**2]]\n",
    "\n",
    "#Compute correlated error propagation\n",
    "sig_z_1 = error_prop_corr(z_1,[x,y],C)\n",
    "sig_z_2 = error_prop_corr(z_2,[x,y],C)\n",
    "\n",
    "#Show results\n",
    "display(Latex(\"$$(z=x+y):\\ \\ {} = {}$$\".format(\"\\sigma_z\", latex(sig_z_1))))\n",
    "display(Latex(\"$$(z=x-y):\\ \\ {} = {}$$\".format(\"\\sigma_z\", latex(sig_z_2))))"
   ]
  },
  {
   "cell_type": "markdown",
   "metadata": {},
   "source": [
    "We can also compute the relative uncertainities $\\frac{\\sigma_z}{z}$"
   ]
  },
  {
   "cell_type": "code",
   "execution_count": 5,
   "metadata": {},
   "outputs": [
    {
     "data": {
      "text/latex": [
       "$$(z=x\\cdot y):\\ \\ \\dfrac{\\sigma_{x*y}}{x*y} = \\frac{\\sqrt{2 \\rho \\sigma_{x} \\sigma_{y} x y + \\sigma_{x}^{2} y^{2} + \\sigma_{y}^{2} x^{2}}}{x y}$$"
      ],
      "text/plain": [
       "<IPython.core.display.Latex object>"
      ]
     },
     "metadata": {},
     "output_type": "display_data"
    },
    {
     "data": {
      "text/latex": [
       "$$(z=x/y):\\ \\ \\dfrac{\\sigma_{x/y}}{x/y} = \\frac{y \\sqrt{\\frac{- 2 \\rho \\sigma_{x} \\sigma_{y} x y + \\sigma_{x}^{2} y^{2} + \\sigma_{y}^{2} x^{2}}{y^{4}}}}{x}$$"
      ],
      "text/plain": [
       "<IPython.core.display.Latex object>"
      ]
     },
     "metadata": {},
     "output_type": "display_data"
    },
    {
     "data": {
      "text/latex": [
       "$$(z=x^n * y^n):\\ \\ \\dfrac{\\sigma_{x^ny^n}}{x^ny^n} = x^{- n} y^{- n} \\sqrt{n^{2} x^{2 n - 2} y^{2 n - 2} \\left(2 \\rho \\sigma_{x} \\sigma_{y} x y + \\sigma_{x}^{2} y^{2} + \\sigma_{y}^{2} x^{2}\\right)}$$"
      ],
      "text/plain": [
       "<IPython.core.display.Latex object>"
      ]
     },
     "metadata": {},
     "output_type": "display_data"
    }
   ],
   "source": [
    "# (ii)\n",
    "n = symbols('n')\n",
    "#Define variables dependent on x and y\n",
    "z_3 = x*y\n",
    "z_4 = x/y\n",
    "z_5 = x**n * y**n\n",
    "\n",
    "#Compute uncertainties\n",
    "sig_z_3 = error_prop_corr(z_3,[x,y],C)\n",
    "sig_z_4 = error_prop_corr(z_4,[x,y],C)\n",
    "sig_z_5 = error_prop_corr(z_5,[x,y],C)\n",
    "\n",
    "#Show results\n",
    "display(Latex(\"$$(z=x\\cdot y):\\ \\ {} = {}$$\".format('\\dfrac{\\sigma_{'+ str(z_3)+ '}}{'+ str(z_3) + '}', latex(sig_z_3/z_3))))\n",
    "display(Latex(\"$$(z=x/y):\\ \\ {} = {}$$\".format('\\dfrac{\\sigma_{'+ str(z_4)+ '}}{'+ str(z_4) + '}', latex(sig_z_4/z_4))))\n",
    "display(Latex(\"$$(z=x^n * y^n):\\ \\ {} = {}$$\".format('\\dfrac{\\sigma_{'+ \"x^ny^n\"+ '}}{'+ \"x^ny^n\" + '}', latex(sig_z_5/z_5))))"
   ]
  },
  {
   "cell_type": "markdown",
   "metadata": {},
   "source": [
    "In the following we focus on the acceleration of gravity of a single pendulum, which by the instructions is given as:\n",
    "    $$g = 4  \\pi^2 \\frac{L}{T^2}$$\n",
    "where $L$ is the length and $T$ the period of the pendulum. We can compute the uncertainty of $g$:"
   ]
  },
  {
   "cell_type": "code",
   "execution_count": 6,
   "metadata": {},
   "outputs": [
    {
     "data": {
      "text/latex": [
       "$$\\ \\ \\sigma_g = \\frac{4 \\pi^{2} \\sqrt{4 L^{2} \\sigma_{T}^{2} - 4 L T \\rho \\sigma_{L} \\sigma_{T} + T^{2} \\sigma_{L}^{2}}}{T^{3}}$$"
      ],
      "text/plain": [
       "<IPython.core.display.Latex object>"
      ]
     },
     "metadata": {},
     "output_type": "display_data"
    }
   ],
   "source": [
    "#(iii)\n",
    "#Define the necessary symbols and the formula for g\n",
    "L,T,sig_L,sig_T = symbols(\"L,T,sigma_L,sigma_T\",positive = True)\n",
    "g = 4*pi**2*(L/T**2)\n",
    "\n",
    "#Define the covariance matrix according to definition\n",
    "C = [[sig_L**2, rho * sig_L * sig_T], [rho * sig_L * sig_T, sig_T**2]]\n",
    "\n",
    "#Compute the uncertainty of g by using correlated error propagation and output the result\n",
    "sig_g = error_prop_corr(g,[L,T],C)\n",
    "display(Latex(\"$$\\ \\ {} = {}$$\".format(\"\\sigma_g\", latex(sig_g))))"
   ]
  },
  {
   "cell_type": "markdown",
   "metadata": {},
   "source": [
    "## Excercise b: Volume and uncertainty of a cylinder\n",
    "\n",
    "Consider a cylinder, which can unambigously be described by its height $h$ and radius $r$.\n",
    "The formula for its volume is:\n",
    "$$ V = \\pi r^2 \\cdot h$$\n",
    "The respective uncertainty can be calculated by using SymPy again:"
   ]
  },
  {
   "cell_type": "code",
   "execution_count": 7,
   "metadata": {},
   "outputs": [
    {
     "data": {
      "text/latex": [
       "$$\\ \\ V = \\pi h r^{2}$$"
      ],
      "text/plain": [
       "<IPython.core.display.Latex object>"
      ]
     },
     "metadata": {},
     "output_type": "display_data"
    },
    {
     "data": {
      "text/latex": [
       "$$\\ \\ \\sigma_V = \\pi r \\sqrt{4 h^{2} \\sigma_{r}^{2} + r^{2} \\sigma_{h}^{2}}$$"
      ],
      "text/plain": [
       "<IPython.core.display.Latex object>"
      ]
     },
     "metadata": {},
     "output_type": "display_data"
    }
   ],
   "source": [
    "#Case 1: Uncorrelated: correlation coefficient 0\n",
    "#Define the needed symbols and the formula for the volume of a cylinder\n",
    "h,r,sig_h,sig_r = symbols(\"h,r,sigma_h,sigma_r\",positive = True)\n",
    "V = pi*r**2 *h\n",
    "\n",
    "#Compute the uncertainty of the uncorrelated quantities and output the result\n",
    "sig_V = error_prop(V,[(h,sig_h),(r,sig_r)])\n",
    "display(Latex(\"$$\\ \\ {} = {}$$\".format(\"V\", latex(V))))\n",
    "display(Latex(\"$$\\ \\ {} = {}$$\".format(\"\\sigma_V\", latex(sig_V))))"
   ]
  },
  {
   "cell_type": "markdown",
   "metadata": {},
   "source": [
    "Plugging in concrete values for $h= 3 cm$ and $r = 2 cm$ with an uncertainty of $\\sigma_h = \\sigma_r = 0,05 cm$ leads to:"
   ]
  },
  {
   "cell_type": "code",
   "execution_count": 8,
   "metadata": {},
   "outputs": [
    {
     "data": {
      "text/latex": [
       "$$\\ \\ V = 37.6991118430775 cm^3$$"
      ],
      "text/plain": [
       "<IPython.core.display.Latex object>"
      ]
     },
     "metadata": {},
     "output_type": "display_data"
    },
    {
     "data": {
      "text/latex": [
       "$$\\ \\ \\sigma_V = 1.98691765315922 cm^3$$"
      ],
      "text/plain": [
       "<IPython.core.display.Latex object>"
      ]
     },
     "metadata": {},
     "output_type": "display_data"
    }
   ],
   "source": [
    "#Substitute the symbols with concrete values and evaluate the expression\n",
    "V = V.subs([(h,3), (r,2)]).evalf()\n",
    "sig_V = sig_V.subs([(h,3), (r,2), (sig_h,0.05), (sig_r,0.05)]).evalf()\n",
    "\n",
    "#Output\n",
    "display(Latex(\"$$\\ \\ {} = {} cm^3$$\".format(\"V\", latex(V))))\n",
    "display(Latex(\"$$\\ \\ {} = {} cm^3$$\".format(\"\\sigma_V\", latex(sig_V))))"
   ]
  },
  {
   "cell_type": "code",
   "execution_count": 9,
   "metadata": {},
   "outputs": [
    {
     "data": {
      "text/latex": [
       "$$\\ \\ V = 37.7 cm^3$$"
      ],
      "text/plain": [
       "<IPython.core.display.Latex object>"
      ]
     },
     "metadata": {},
     "output_type": "display_data"
    },
    {
     "data": {
      "text/latex": [
       "$$\\ \\ \\sigma_V = 2.0 cm^3$$"
      ],
      "text/plain": [
       "<IPython.core.display.Latex object>"
      ]
     },
     "metadata": {},
     "output_type": "display_data"
    }
   ],
   "source": [
    "#Take into consideration significant digits\n",
    "display(Latex(\"$$\\ \\ {} = {} cm^3$$\".format(\"V\", latex(np.round(float(V),1)))))\n",
    "display(Latex(\"$$\\ \\ {} = {} cm^3$$\".format(\"\\sigma_V\", latex(np.round(float(sig_V),1)))))"
   ]
  },
  {
   "cell_type": "code",
   "execution_count": 10,
   "metadata": {},
   "outputs": [
    {
     "data": {
      "text/latex": [
       "$$\\ \\ V = \\pi h r^{2}$$"
      ],
      "text/plain": [
       "<IPython.core.display.Latex object>"
      ]
     },
     "metadata": {},
     "output_type": "display_data"
    },
    {
     "data": {
      "text/latex": [
       "$$\\ \\ \\sigma_V = \\pi r \\sqrt{4 h^{2} \\sigma_{r}^{2} + 4 h r \\rho \\sigma_{h} \\sigma_{r} + r^{2} \\sigma_{h}^{2}}$$"
      ],
      "text/plain": [
       "<IPython.core.display.Latex object>"
      ]
     },
     "metadata": {},
     "output_type": "display_data"
    }
   ],
   "source": [
    "#Case 2: Correlated: correlation coefficient not necessarily 0\n",
    "#Define needed symbols\n",
    "h,r,sig_h,sig_r = symbols(\"h,r,sigma_h,sigma_r\",positive = True)\n",
    "V_2 = pi*r**2 *h\n",
    "\n",
    "#Def. of covariance matrix\n",
    "C = [[sig_h**2, rho * sig_h * sig_r], [rho * sig_h * sig_r, sig_r**2]]\n",
    "\n",
    "#Compute uncertainty using correlated error propagation and output the results\n",
    "sig_V_2 = error_prop_corr(V_2,[h,r],C)\n",
    "display(Latex(\"$$\\ \\ {} = {}$$\".format(\"V\", latex(V_2))))\n",
    "display(Latex(\"$$\\ \\ {} = {}$$\".format(\"\\sigma_V\", latex(sig_V_2))))"
   ]
  },
  {
   "cell_type": "markdown",
   "metadata": {},
   "source": [
    "Plugging in the same values as before and taking into account, that the parameters should be fully correlated, which means the correlation coefficient must be set to $\\rho = 1$, we obtain:"
   ]
  },
  {
   "cell_type": "code",
   "execution_count": 11,
   "metadata": {},
   "outputs": [
    {
     "data": {
      "text/latex": [
       "$$\\ \\ V = 37.6991118430775 cm^3$$"
      ],
      "text/plain": [
       "<IPython.core.display.Latex object>"
      ]
     },
     "metadata": {},
     "output_type": "display_data"
    },
    {
     "data": {
      "text/latex": [
       "$$\\ \\ \\sigma_V = 2.51327412287183 cm^3$$"
      ],
      "text/plain": [
       "<IPython.core.display.Latex object>"
      ]
     },
     "metadata": {},
     "output_type": "display_data"
    }
   ],
   "source": [
    "#Substitute the symbols and compute the expression\n",
    "V_2 = V_2.subs([(h,3), (r,2)]).evalf()\n",
    "sig_V_2 = sig_V_2.subs([(h,3), (r,2), (sig_h,0.05), (sig_r,0.05), (rho,1)]).evalf()\n",
    "\n",
    "#Output\n",
    "display(Latex(\"$$\\ \\ {} = {} cm^3$$\".format(\"V\", latex(V_2))))\n",
    "display(Latex(\"$$\\ \\ {} = {} cm^3$$\".format(\"\\sigma_V\", latex(sig_V_2))))"
   ]
  },
  {
   "cell_type": "code",
   "execution_count": 12,
   "metadata": {},
   "outputs": [
    {
     "data": {
      "text/latex": [
       "$$\\ \\ V = 37.7 cm^3$$"
      ],
      "text/plain": [
       "<IPython.core.display.Latex object>"
      ]
     },
     "metadata": {},
     "output_type": "display_data"
    },
    {
     "data": {
      "text/latex": [
       "$$\\ \\ \\sigma_V = 2.5 cm^3$$"
      ],
      "text/plain": [
       "<IPython.core.display.Latex object>"
      ]
     },
     "metadata": {},
     "output_type": "display_data"
    }
   ],
   "source": [
    "#Consider significant digits\n",
    "display(Latex(\"$$\\ \\ {} = {} cm^3$$\".format(\"V\", latex(np.round(float(V_2),1)))))\n",
    "display(Latex(\"$$\\ \\ {} = {} cm^3$$\".format(\"\\sigma_V\", latex(np.round(float(sig_V_2),1)))))"
   ]
  },
  {
   "cell_type": "markdown",
   "metadata": {},
   "source": [
    "If we compare the results of the uncertainties in the fully correlated and the incorrelated case, we can observe, that in the fully correlated case the error is about"
   ]
  },
  {
   "cell_type": "code",
   "execution_count": 13,
   "metadata": {},
   "outputs": [
    {
     "data": {
      "text/latex": [
       "$$0.5cm^3$$"
      ],
      "text/plain": [
       "<IPython.core.display.Latex object>"
      ]
     },
     "metadata": {},
     "output_type": "display_data"
    }
   ],
   "source": [
    "display(Latex(\"$$\" + str(np.round(float(sig_V_2)-float(sig_V),1))+ \"cm^3$$\"))"
   ]
  },
  {
   "cell_type": "markdown",
   "metadata": {},
   "source": [
    "higher than in the uncorrelated case. This result is intuitive, because the off-diagonal elements of the covariance matrix do not vanish and are positive (correlation coefficient and the uncertainties are positive), while in the uncorrelated case, they become 0. Therefore the total uncertainty in the fully correlated case must be higher."
   ]
  },
  {
   "cell_type": "markdown",
   "metadata": {},
   "source": [
    "## Excercise c: Function which returns covariance matrix of composed quantities given the covariance matrices of the single quantities\n",
    "\n",
    "In the following, the $x$ and $y$ position of a particle are measured. With this information we can determine the radial distance $r$ and the scattering angle $\\theta$ using the formulas:\n",
    "\n",
    "$$ r = \\sqrt{x^2 + y^2}$$\n",
    "$$\\theta = atan2(y,x) $$\n",
    "\n",
    "Given the covariance matrix $V$ of $x$ and $y$, the goal is to write a program which returns the covariance matrix $U$ of $r$ and $\\theta$.\n",
    "\n",
    "The matrix $V$ has the following form:\n",
    "$$ V= \\begin{bmatrix}\\sigma_x^2 & \\rho \\sigma_x\\sigma_y \\\\ \\rho \\sigma_x\\sigma_y & \\sigma_y^2\\\\ \\end{bmatrix} $$\n",
    "\n",
    "A fast way of solving the problem is by directly transforming the covariance matrix $V$. In order to get the new covariance matrix $U$, a congruent transformation (in the mathematical sense) is needed:\n",
    "$$ U = G V G^T$$\n",
    "where the transformation matrix is given as\n",
    "$$ G_{ij} = \\frac{\\partial f_i}{\\partial x_j} $$\n",
    "Where $f_1 = r(x,y)$, $f_2 = \\theta(x,y)$, $x_1=x$ and $x_2 = y$.\n",
    "\n",
    "In the following this solution will be implemented:"
   ]
  },
  {
   "cell_type": "code",
   "execution_count": 14,
   "metadata": {},
   "outputs": [
    {
     "data": {
      "text/latex": [
       "$\\displaystyle \\left[\\begin{matrix}\\frac{\\sigma_{x} x \\left(\\rho \\sigma_{y} y + \\sigma_{x} x\\right) + \\sigma_{y} y \\left(\\rho \\sigma_{x} x + \\sigma_{y} y\\right)}{x^{2} + y^{2}} & \\frac{- \\sigma_{x} y \\left(\\rho \\sigma_{y} y + \\sigma_{x} x\\right) + \\sigma_{y} x \\left(\\rho \\sigma_{x} x + \\sigma_{y} y\\right)}{\\left(x^{2} + y^{2}\\right)^{\\frac{3}{2}}}\\\\\\frac{\\sigma_{x} x \\left(\\rho \\sigma_{y} x - \\sigma_{x} y\\right) - \\sigma_{y} y \\left(\\rho \\sigma_{x} y - \\sigma_{y} x\\right)}{\\left(x^{2} + y^{2}\\right)^{\\frac{3}{2}}} & - \\frac{\\sigma_{x} y \\left(\\rho \\sigma_{y} x - \\sigma_{x} y\\right) + \\sigma_{y} x \\left(\\rho \\sigma_{x} y - \\sigma_{y} x\\right)}{\\left(x^{2} + y^{2}\\right)^{2}}\\end{matrix}\\right]$"
      ],
      "text/plain": [
       "Matrix([\n",
       "[       (sigma_x*x*(rho*sigma_y*y + sigma_x*x) + sigma_y*y*(rho*sigma_x*x + sigma_y*y))/(x**2 + y**2), (-sigma_x*y*(rho*sigma_y*y + sigma_x*x) + sigma_y*x*(rho*sigma_x*x + sigma_y*y))/(x**2 + y**2)**(3/2)],\n",
       "[(sigma_x*x*(rho*sigma_y*x - sigma_x*y) - sigma_y*y*(rho*sigma_x*y - sigma_y*x))/(x**2 + y**2)**(3/2),     -(sigma_x*y*(rho*sigma_y*x - sigma_x*y) + sigma_y*x*(rho*sigma_x*y - sigma_y*x))/(x**2 + y**2)**2]])"
      ]
     },
     "execution_count": 14,
     "metadata": {},
     "output_type": "execute_result"
    }
   ],
   "source": [
    "#Define all the symbols and corresponding expressions\n",
    "x,y,sig_x,sig_y,r,th,sig_r,sig_th, rho = symbols(\"x,y,sigma_x,sigma_y,r,theta,sigma_r,sigma_theta,rho\")\n",
    "\n",
    "#Expressions for the new parameters\n",
    "r = sqrt(x**2 + y**2)\n",
    "th = atan2(y,x)\n",
    "\n",
    "#Covariance Matrix for x and y (old)\n",
    "V_old = Matrix([[sig_x**2, rho * sig_x * sig_y], [rho * sig_x * sig_y, sig_y**2]])\n",
    "\n",
    "f_new = Matrix([r,th])\n",
    "v_old = Matrix([x,y])\n",
    "\n",
    "#Define the searched function\n",
    "def congruence_trafo(f,v,V):\n",
    "    \"\"\" \n",
    "    f: new variables\n",
    "    v: old variables\n",
    "    V: Covariance matrix of old variables\n",
    "    Output: U Covariance matrix of new variables\n",
    "    \"\"\"\n",
    "    #Transformation matrix\n",
    "    G = f.jacobian(v)\n",
    "    #Return transformed matrix U using a congruence transformation\n",
    "    return simplify(G * V * G.transpose())\n",
    "\n",
    "#Test the function for our concrete scenario\n",
    "congruence_trafo(f_new,v_old,V_old)"
   ]
  },
  {
   "cell_type": "markdown",
   "metadata": {},
   "source": [
    "In the last step we want to determine the covariance matrix $U$ for the special case, that $x$ and $y$ are uncorrelated - so we can make the assumption:\n",
    "$$ \\rho = 0$$"
   ]
  },
  {
   "cell_type": "code",
   "execution_count": 15,
   "metadata": {},
   "outputs": [
    {
     "data": {
      "text/latex": [
       "$\\displaystyle \\left[\\begin{matrix}\\frac{\\sigma_{x}^{2} x^{2} + \\sigma_{y}^{2} y^{2}}{x^{2} + y^{2}} & \\frac{x y \\left(- \\sigma_{x}^{2} + \\sigma_{y}^{2}\\right)}{\\left(x^{2} + y^{2}\\right)^{\\frac{3}{2}}}\\\\\\frac{x y \\left(- \\sigma_{x}^{2} + \\sigma_{y}^{2}\\right)}{\\left(x^{2} + y^{2}\\right)^{\\frac{3}{2}}} & \\frac{\\sigma_{x}^{2} y^{2} + \\sigma_{y}^{2} x^{2}}{\\left(x^{2} + y^{2}\\right)^{2}}\\end{matrix}\\right]$"
      ],
      "text/plain": [
       "Matrix([\n",
       "[  (sigma_x**2*x**2 + sigma_y**2*y**2)/(x**2 + y**2),  x*y*(-sigma_x**2 + sigma_y**2)/(x**2 + y**2)**(3/2)],\n",
       "[x*y*(-sigma_x**2 + sigma_y**2)/(x**2 + y**2)**(3/2), (sigma_x**2*y**2 + sigma_y**2*x**2)/(x**2 + y**2)**2]])"
      ]
     },
     "execution_count": 15,
     "metadata": {},
     "output_type": "execute_result"
    }
   ],
   "source": [
    "#Set the correlation coefficient to 0 for uncorrelated case\n",
    "rho = 0\n",
    "\n",
    "#Same matrices as before\n",
    "V_old = Matrix([[sig_x**2, rho * sig_x * sig_y], [rho * sig_x * sig_y, sig_y**2]])\n",
    "f_new = Matrix([r,th])\n",
    "v_old = Matrix([x,y])\n",
    "\n",
    "#Compute congruence transformation by using previous method\n",
    "congruence_trafo(f_new,v_old,V_old)"
   ]
  },
  {
   "cell_type": "markdown",
   "metadata": {},
   "source": [
    "Although the covariance matrix $V$ has vanishing off-diagonal elements, the matrix $U$ does have non-zero off-diagonal elements. This can be explained due to the fact, that in our concrete example, $x$ and $y$ are uncorrelated, while $r$ and $\\theta$ must be correlated, as both depend on the old variables $x$ and $y$ and therefore the off-diagonal elements do not vanish."
   ]
  }
 ],
 "metadata": {
  "kernelspec": {
   "display_name": "Python 3",
   "language": "python",
   "name": "python3"
  },
  "language_info": {
   "codemirror_mode": {
    "name": "ipython",
    "version": 3
   },
   "file_extension": ".py",
   "mimetype": "text/x-python",
   "name": "python",
   "nbconvert_exporter": "python",
   "pygments_lexer": "ipython3",
   "version": "3.7.3"
  }
 },
 "nbformat": 4,
 "nbformat_minor": 4
}
