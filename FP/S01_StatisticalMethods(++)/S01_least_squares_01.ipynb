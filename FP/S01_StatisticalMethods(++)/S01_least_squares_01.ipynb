{
 "cells": [
  {
   "cell_type": "markdown",
   "metadata": {},
   "source": [
    "# Linear least squares fit - Yago Obispo Gerster | mn304 | yago.obispo_gerster@stud.uni-heidelberg.de\n",
    "\n",
    "## Tasks\n",
    "\n",
    "Perform a least squares fit of a parabola\n",
    "\n",
    "$$ y(x) = \\theta_0 + \\theta_1 x + \\theta_2 x^2$$\n",
    "\n",
    "for the seven independent measurments $(x_i, y_i)$ given by $(-0.75, 1.0 \\pm 1.0)$, $(-0.5, 4.0 \\pm 1.0)$, $(-0.25, 4.0 \\pm 0.5)$, $(0.0, 5.5 \\pm 0.5)$, $(0.25, 4.5 \\pm 0.5)$, $(0.5, 5.5 \\pm 1.0)$, $(0.75, 3.0 \\pm 1.0)$. \n",
    "\n",
    "a) Determine the best fit parameters $\\hat \\theta_i$ and their covariances using the formula for linear least squares fits.\n",
    "\n",
    "b) Determine the $\\chi_\\mathrm{obs}^2$ for the best fit parameter. What is the number of degrees of freedom? Plot the $\\chi^2$ distribution and indicate $\\chi_\\mathrm{obs}^2$ in this plot (e.g. by drawing a line at this value).\n",
    "What is the $p$-value for this fit?\n",
    "\n",
    "c) Plot the fitted parabola and the $1\\sigma$ error band around it as obtaind from the error propagation formula $\\sigma_y^2 = A^\\mathrm{T} U A$. What is the predicted value $y$ at $x=1$ and its uncertainty?\n",
    "\n",
    "d) Compare the fit result and the covariance matrix with the results obtained with iminuit. Do the results agree?\n",
    "\n",
    "e) Determine the $p$-value for a straight-line fit. Is thhis an acceptable description of the data?\n",
    "\n",
    "\n",
    "### Hints\n",
    "\n",
    "1) The following numpy functions might come in very handy\n",
    "* diagonal matrix from vector v in numpy: *A = np.diagflat(v)*\n",
    "* matrix from column vectors v0, v1, v2: *A = np.column_stack((v0, v1, v2))*\n",
    "* multiplication of matrices A and B in numpy: *C = A.dot(B)*\n",
    "* transposed matrix: *A_T = np.transpose(A)*\n",
    "* inverse matrix: *A_inv = inv(A)*, this requires *from numpy.linalg import inv*\n",
    "\n",
    "2) It might be useful to write a function which returns the uncertainty $\\sigma_y$ for a numpy array of $x$ values. A function $f$ that only works for a scalar value $x$ can be vectorized (i.e., it works also for numpy arrays) with *numpy.vectorize*.\n",
    "\n",
    "3) Data points with error bars can be drawn with *plt.errorbar(x, y, yerr=sigma_y)*\n",
    "\n",
    "4) A band between $y$ values can be drawn with the aid of *matplotlib.pyplot.fill_between*\n",
    "\n",
    "## Comments on Python's `iminuit`\n",
    "\n",
    "The KIP service has iminuit version 1.3.8. Please note that the most recent version is $\\geq2.0.0$ and that the [documentation](https://iminuit.readthedocs.io/en/stable/) applies to *that* version. Some backward-incompatible changes have been introduced, some of which changed some interfaces. For your tasks that mainly affects the `minuit.Minuit` constructor. The following shows the construction of a `Minuit` object for version 1.3.8 (in case you use the KIP service or a version $<2.0.0$) and $\\geq2.0.0$ (in case you use another service implementing a higher version), respectively.\n",
    "```python\n",
    "from iminuit import Minuit\n",
    "\n",
    "def func(par1, par2, ..., parN):\n",
    "    return minimise_something(par1, par2, ..., parN)\n",
    "\n",
    "# least squares method: errordef=1\n",
    "# likelihood method: errordef=0.5\n",
    "m = Minuit(func, par1=0.1, par2=0.1, ..., parN=0.1, errordef=1)\n",
    "```\n",
    "\n",
    "And this would be the equivalent workflow for versions >2.0.0\n",
    "```python\n",
    "from iminuit import Minuit\n",
    "\n",
    "def func(par1, par2, ..., parN):\n",
    "    return minimise_something(par1, par2, ..., parN)\n",
    "\n",
    "# least squares method: errordef=Minuit.LEAST_SQUARES\n",
    "# likelihood method: errordef=Minuit.LIKELIHOOD\n",
    "\n",
    "# add errordef as an attribute of your defined minimisation function which will be checked for when optimised\n",
    "func.errordef = Minuit.LEAST_SQUARES\n",
    "m = Minuit(func, par1=0.1 par2=0.1, ..., parN=0.1)\n",
    "```\n",
    "\n",
    "Another (potenitally) Jupiter related *feature* is the fact that `m.migrad()`, `m.matrix()`, `m.minos()` etc. can yield a nice summary of the respective procedure. However, in order to show it, either of these methods (and potentially others in case you use them) have to be *the last line of a code cell*. If there is *anything* coming afterwards, the output will not be printed, hence, for anything that follows, it is recommended to start a new code cell.\n"
   ]
  },
  {
   "cell_type": "markdown",
   "metadata": {},
   "source": [
    "## Solution"
   ]
  },
  {
   "cell_type": "code",
   "execution_count": 1,
   "metadata": {},
   "outputs": [],
   "source": [
    "import numpy as np\n",
    "import matplotlib.pyplot as plt\n",
    "from numpy.linalg import inv\n",
    "from iminuit import Minuit\n",
    "\n",
    "#Modules for more visual outputs\n",
    "from sympy import *\n",
    "from IPython.display import display, Latex\n",
    "\n",
    "#Module for numerival integration\n",
    "from scipy.integrate import quad\n",
    "\n",
    "#Module in order to compute gamma function\n",
    "import math"
   ]
  },
  {
   "cell_type": "code",
   "execution_count": 2,
   "metadata": {},
   "outputs": [],
   "source": [
    "# given data\n",
    "x = np.array([-0.75, -0.5, -0.25, 0., 0.25, 0.5, 0.75])\n",
    "y = np.array([1., 4.0, 4., 5.5, 4.5, 5.5, 3])\n",
    "sigma_y = np.array([1, 1, 0.5, 0.5, 0.5, 1, 1])"
   ]
  },
  {
   "cell_type": "markdown",
   "metadata": {},
   "source": [
    "## Excercise a: Fit parameters and covariances\n",
    "\n",
    "Seven independent measurements $(x_i,y_i)$ have been made and the goal is to fit a parabola to the measured data of the form:\n",
    "$$ f(\\vec \\theta,x) = \\theta_0 + \\theta_1 x + \\theta_2 x^2$$\n",
    "We can observe, that our fit function is linear in all our model parameters $\\theta_i$. Therefore the known formulas for the linear least squares method can be applied.\n",
    "\n",
    "Generally, we can apply a linear least squares fit to functions of the form:\n",
    "$$ f(\\vec \\theta,x) = \\sum\\limits_{k=1}^m a_k(x)\\theta_k $$\n",
    "By comparison of coefficients we get $a_i(x)=x^i$. The coefficients define the matrix $A_{ij} = a_j(x_i) = (x_i)^j$.\n",
    "The $\\chi^2$ function can then be written as\n",
    "$$ \\chi^2 = \\left( \\vec{y}- A \\cdot \\vec{\\theta} \\right)^T \\cdot C^{-1} \\cdot \\left( \\vec{y}- A \\cdot \\vec{\\theta} \\right) $$\n",
    "where $\\vec y$ is a seven dimensional vector which carries the y measurements and $C$ is the covariance matrix - which here by assumption is a diagonal matrix with the variances on the diagonal.\n",
    "The $\\chi^2$ function is minimal for:\n",
    "$$ \\vec{\\hat \\theta} = \\left(A^TC^{-1}A\\right)^{-1}A^TC^{-1}\\cdot\\vec{y} $$\n",
    "Obviously we are interested in the model values which minimize the $\\chi^2$ function, as they are the best model parameters for the description of the sample.\n",
    "\n",
    "We define the matrix which transforms between $\\vec{y}$ and $\\vec{\\hat \\theta}$ as $G$:\n",
    "$$ G := \\left(A^TC^{-1}A\\right)^{-1}A^TC^{-1}$$\n",
    "$$ \\Rightarrow \\vec{\\hat \\theta} = G \\vec{y}$$\n",
    "The covariance matrix $M$ of the estimated model parameters can be computed by a congruence transformation:\n",
    "$$ M = \\left(A^TC^{-1}A\\right)^{-1} = G C G^T $$"
   ]
  },
  {
   "cell_type": "code",
   "execution_count": 3,
   "metadata": {},
   "outputs": [
    {
     "data": {
      "text/latex": [
       "$\\vec{\\hat\\theta} = \\left[\\begin{matrix}4.994\\\\1.294\\\\-4.894\\end{matrix}\\right] $"
      ],
      "text/plain": [
       "<IPython.core.display.Latex object>"
      ]
     },
     "metadata": {},
     "output_type": "display_data"
    },
    {
     "data": {
      "text/latex": [
       "$M = \\left[\\begin{matrix}0.097 & 0 & -0.262\\\\0 & 0.471 & 0\\\\-0.262 & 0 & 1.973\\end{matrix}\\right]$"
      ],
      "text/plain": [
       "<IPython.core.display.Latex object>"
      ]
     },
     "metadata": {},
     "output_type": "display_data"
    }
   ],
   "source": [
    "#Define matrices A and C\n",
    "A = np.column_stack((x ** 0,x,x ** 2))\n",
    "C = np.diagflat(sigma_y**2)\n",
    "\n",
    "#Compute the covariance matrix M\n",
    "M = inv(np.transpose(A).dot(inv(C).dot(A)))\n",
    "\n",
    "#Compute the matrix G with def. above subsituting M\n",
    "G = M.dot(np.transpose(A).dot(inv(C)))\n",
    "\n",
    "#Determine best fit parameters\n",
    "th_fit = G.dot(y)\n",
    "\n",
    "#Output\n",
    "display(Latex('${} = {} $'.format('\\\\vec{\\hat\\\\theta}',latex(Matrix(th_fit.round(3))))))\n",
    "display(Latex('$M = {}$'.format(latex(Matrix(M.round(3))))))"
   ]
  },
  {
   "cell_type": "markdown",
   "metadata": {},
   "source": [
    "## Excercise b: $\\chi^2$ Distribution\n",
    "In the next step the $\\chi_{obs}^2$ value for the found minimalizing model parameters will be calculated.\n",
    "As mentioned before, we get the $\\chi^2$ by using:\n",
    "$$ \\chi^2 = \\left( \\vec{y}- A \\cdot \\vec{\\theta} \\right)^T \\cdot C^{-1} \\cdot \\left( \\vec{y}- A \\cdot \\vec{\\theta} \\right) $$\n",
    "In order to compute $\\chi_{obs}^2$ we therefore just have to plug in our vector for the minimalizing model parameters $\\vec{\\hat\\theta}$:"
   ]
  },
  {
   "cell_type": "code",
   "execution_count": 4,
   "metadata": {},
   "outputs": [
    {
     "data": {
      "text/latex": [
       "$$\\chi_{obs}^2 = 4.661$$"
      ],
      "text/plain": [
       "<IPython.core.display.Latex object>"
      ]
     },
     "metadata": {},
     "output_type": "display_data"
    }
   ],
   "source": [
    "#Plug th_fit into formula for chi_squared and output\n",
    "chi_obs_squared = np.transpose(y-A.dot(th_fit)).dot(inv(C)).dot(y-A.dot(th_fit))\n",
    "display(Latex(\"$${} = {}$$\".format(\"\\chi_{obs}^2\", latex(np.round(chi_obs_squared,3)))))"
   ]
  },
  {
   "cell_type": "markdown",
   "metadata": {},
   "source": [
    "The number of degrees of freedom is given by subtracting the number of model parameters $m$ from the total number of measurements $n$, as we have already estimated the model parameters and have therefore consumed $m$ degrees of freedom.\n",
    "$$ n_F = n-m = 7-3=4$$\n",
    "Hence we have 4 degrees of freedom.\n",
    "The probability density function for $\\chi^2$ with $n$ degrees of freedom is given by:\n",
    "$$ f(\\chi^2,n) =\\frac{(\\chi^2)^{n/2-1}e^{-(\\chi^2)/2}}{2^{n/2}\\Gamma(\\frac{n}{2})}  $$\n",
    "As we know that for $n\\in \\mathbb{N}: \\Gamma(n)=(n-1)!$ for $n=4$ we get:\n",
    "$$ f(\\chi^2,4) =\\frac{(\\chi^2)e^{-(\\chi^2)/2}}{4}  $$\n",
    "We can plot this distribution and signal the point at which the estimated $\\chi_{obs}^2$ value is:"
   ]
  },
  {
   "cell_type": "code",
   "execution_count": 5,
   "metadata": {},
   "outputs": [
    {
     "data": {
      "text/plain": [
       "Text(0, 0.5, '$\\\\chi^2$ probability density')"
      ]
     },
     "execution_count": 5,
     "metadata": {},
     "output_type": "execute_result"
    },
    {
     "data": {
      "image/png": "[encoded data removed]",
      "text/plain": [
       "<Figure size 864x504 with 1 Axes>"
      ]
     },
     "metadata": {
      "needs_background": "light"
     },
     "output_type": "display_data"
    }
   ],
   "source": [
    "#Define the chi_squared function with the formula for n=4 above\n",
    "def chi_squared_pdf(chi_squared):\n",
    "    return chi_squared*np.exp(-chi_squared/2)/4\n",
    "\n",
    "#Plot\n",
    "c=np.linspace(0,10, 100)\n",
    "plt.figure(figsize=(12,7))\n",
    "plt.title(r'$\\chi^2$ pdf with its computed minimum')\n",
    "plt.plot(c, chi_squared_pdf(c), label=r'$\\chi^2$ probability density')\n",
    "plt.grid()\n",
    "plt.vlines(chi_obs_squared,0,0.19, linestyle = \"dotted\",color='red', label='${} ={}$'.format(r\"\"\"\\chi^2_{obs}\"\"\",np.round(chi_obs_squared,3)))\n",
    "plt.legend()\n",
    "plt.xlabel(r'$\\chi^2$')\n",
    "plt.ylabel(r'$\\chi^2$ probability density')"
   ]
  },
  {
   "cell_type": "markdown",
   "metadata": {},
   "source": [
    "By definition, the $p$-value can be determined by using:\n",
    "$$ p-value = 1- \\int_0^{\\chi^2_{obs}} P(\\chi^2) \\ \\text{d}\\chi^2 $$\n",
    "It describes the probability of obtaining a worse value than the observed $\\chi^2$."
   ]
  },
  {
   "cell_type": "code",
   "execution_count": 6,
   "metadata": {},
   "outputs": [
    {
     "data": {
      "text/latex": [
       "$p-value = 0.324$"
      ],
      "text/plain": [
       "<IPython.core.display.Latex object>"
      ]
     },
     "metadata": {},
     "output_type": "display_data"
    }
   ],
   "source": [
    "p = 1- quad(chi_squared_pdf, 0, chi_obs_squared)[0]\n",
    "display(Latex('$p-value = {}$'.format(np.round(p,3))))"
   ]
  },
  {
   "cell_type": "markdown",
   "metadata": {},
   "source": [
    "An often used (arbitrary) argument in order to analyze if a model describes the sample or needs to be discarded, is $p<0.05$. So if the probability is less than $5\\%$, the model needs to be discarded. However, our p-value has a magnitude of $0,324$, which means, our model fits the data correct.\n",
    "Hence, a quadratic function is appropriate for our sample."
   ]
  },
  {
   "cell_type": "markdown",
   "metadata": {},
   "source": [
    "## Excercise c: Fitted parabola and $1\\sigma$ error band\n",
    "\n",
    "We have already computed the best fit parameters for a parabola. We can therefore plot the parabola and also highlight the $1\\sigma$ error band obtained by the formula $\\sigma_y^2 = A^\\mathrm{T} M A$"
   ]
  },
  {
   "cell_type": "code",
   "execution_count": 7,
   "metadata": {},
   "outputs": [
    {
     "data": {
      "text/plain": [
       "<matplotlib.legend.Legend at 0x7fcbe22c9b00>"
      ]
     },
     "execution_count": 7,
     "metadata": {},
     "output_type": "execute_result"
    },
    {
     "data": {
      "image/png": "[encoded data removed]",
      "text/plain": [
       "<Figure size 864x504 with 1 Axes>"
      ]
     },
     "metadata": {
      "needs_background": "light"
     },
     "output_type": "display_data"
    }
   ],
   "source": [
    "#Define the fit function: quadratic\n",
    "def quadratic(x,th_1,th_2,th_3):\n",
    "    return th_1 + th_2*x + th_3*x**2\n",
    "\n",
    "#Formula for sigma_y above\n",
    "def sig_y(x):\n",
    "    A = np.array([1, x, x** 2], dtype='object')\n",
    "    return np.sqrt(np.transpose(A).dot(M).dot(A))\n",
    "\n",
    "#Plot the quadratic best fit\n",
    "xt = np.linspace(-1, 1.3, 1000)\n",
    "plt.figure(figsize=(12,7))\n",
    "plt.title(\"Optimal fit of quadratic function to sample with 1$\\sigma$ error\")\n",
    "plt.grid()\n",
    "plt.xlabel('x')\n",
    "plt.ylabel('y(x)')\n",
    "\n",
    "#Datapoints with its errors\n",
    "plt.errorbar(x, y, yerr=sigma_y, capsize=4, fmt='.', label='Datapoints')\n",
    "\n",
    "#Plot parabola\n",
    "plt.plot(xt, quadratic(xt, th_fit[0], th_fit[1], th_fit[2]), label='Best fit')\n",
    "\n",
    "#Highlight the 1sigma area around parabola by adding ans subtracting sig_y to the function\n",
    "plt.fill_between(xt,quadratic(xt,th_fit[0],th_fit[1],th_fit[2])+sig_y(xt),\n",
    "                 quadratic(xt,th_fit[0],th_fit[1],th_fit[2])-sig_y(xt),\n",
    "                 color='silver', label='Error')\n",
    "plt.legend()"
   ]
  },
  {
   "cell_type": "markdown",
   "metadata": {},
   "source": [
    "The fit can now be used in order to predict values $y$ for a given $x$ and their respective error margin.\n",
    "For $x=1$, we obtain:"
   ]
  },
  {
   "cell_type": "code",
   "execution_count": 8,
   "metadata": {},
   "outputs": [
    {
     "data": {
      "text/latex": [
       "$y(1) = 1.4\\pm 1.4$"
      ],
      "text/plain": [
       "<IPython.core.display.Latex object>"
      ]
     },
     "metadata": {},
     "output_type": "display_data"
    }
   ],
   "source": [
    "y_at1 = quadratic(1,th_fit[0],th_fit[1],th_fit[2])\n",
    "sig_y_at_1 = sig_y(1)\n",
    "\n",
    "#Display considering significant digits\n",
    "display(Latex('$y(1) = {}\\pm {}$'.format(np.round(y_at1,1),np.round(sig_y_at_1,1))))"
   ]
  },
  {
   "cell_type": "markdown",
   "metadata": {},
   "source": [
    "## Excercise d: Comparison with Iminuit\n",
    "\n",
    "The same procedure can be repeated using a different method for computing the fit and the covariance matrix by using the python package Iminuit. Minuit is a package often used in a machine learning context, as it uses fast numerical strategies in order to minimize a function - in our case we are interested in the $\\chi^2$ function:\n",
    "$$ \\chi^2 = \\sum_{i = 1}^n \\dfrac{(y_i - f(x_i, \\theta))^2}{\\sigma_i^2} $$\n",
    "\n",
    "In the following, this method will be presented and we will discuss if the results of both methods agree."
   ]
  },
  {
   "cell_type": "code",
   "execution_count": 9,
   "metadata": {},
   "outputs": [
    {
     "data": {
      "text/html": [
       "<table>\n",
       "    <tr>\n",
       "        <th colspan=\"5\" style=\"text-align:center\" title=\"Minimizer\"> Migrad </th>\n",
       "    </tr>\n",
       "    <tr>\n",
       "        <td colspan=\"2\" style=\"text-align:left\" title=\"Minimum value of function\"> FCN = 4.661 </td>\n",
       "        <td colspan=\"3\" style=\"text-align:center\" title=\"No. of function evaluations in last call and total number\"> Nfcn = 148 </td>\n",
       "    </tr>\n",
       "    <tr>\n",
       "        <td colspan=\"2\" style=\"text-align:left\" title=\"Estimated distance to minimum and goal\"> EDM = 6.08e-06 (Goal: 0.0002) </td>\n",
       "        <td colspan=\"3\" style=\"text-align:center\" title=\"No. of gradient evaluations in last call and total number\">  </td>\n",
       "    </tr>\n",
       "    <tr>\n",
       "        <td colspan=\"2\" style=\"text-align:center;background-color:#92CCA6;color:black\"> Valid Minimum </td>\n",
       "        <td colspan=\"3\" style=\"text-align:center;background-color:#92CCA6;color:black\"> No Parameters at limit </td>\n",
       "    </tr>\n",
       "    <tr>\n",
       "        <td colspan=\"2\" style=\"text-align:center;background-color:#92CCA6;color:black\"> Below EDM threshold (goal x 10) </td>\n",
       "        <td colspan=\"3\" style=\"text-align:center;background-color:#92CCA6;color:black\"> Below call limit </td>\n",
       "    </tr>\n",
       "    <tr>\n",
       "        <td style=\"text-align:center;background-color:#92CCA6;color:black\"> Covariance </td>\n",
       "        <td style=\"text-align:center;background-color:#92CCA6;color:black\"> Hesse ok </td>\n",
       "        <td style=\"text-align:center;background-color:#92CCA6;color:black\" title=\"Is covariance matrix accurate?\"> Accurate </td>\n",
       "        <td style=\"text-align:center;background-color:#92CCA6;color:black\" title=\"Is covariance matrix positive definite?\"> Pos. def. </td>\n",
       "        <td style=\"text-align:center;background-color:#92CCA6;color:black\" title=\"Was positive definiteness enforced by Minuit?\"> Not forced </td>\n",
       "    </tr>\n",
       "</table><table>\n",
       "    <tr>\n",
       "        <td></td>\n",
       "        <th title=\"Variable name\"> Name </th>\n",
       "        <th title=\"Value of parameter\"> Value </th>\n",
       "        <th title=\"Hesse error\"> Hesse Error </th>\n",
       "        <th title=\"Minos lower error\"> Minos Error- </th>\n",
       "        <th title=\"Minos upper error\"> Minos Error+ </th>\n",
       "        <th title=\"Lower limit of the parameter\"> Limit- </th>\n",
       "        <th title=\"Upper limit of the parameter\"> Limit+ </th>\n",
       "        <th title=\"Is the parameter fixed in the fit\"> Fixed </th>\n",
       "    </tr>\n",
       "    <tr>\n",
       "        <th> 0 </th>\n",
       "        <td> th_0 </td>\n",
       "        <td> 4.99 </td>\n",
       "        <td> 0.31 </td>\n",
       "        <td> -0.31 </td>\n",
       "        <td> 0.31 </td>\n",
       "        <td>  </td>\n",
       "        <td>  </td>\n",
       "        <td>  </td>\n",
       "    </tr>\n",
       "    <tr>\n",
       "        <th> 1 </th>\n",
       "        <td> th_1 </td>\n",
       "        <td> 1.3 </td>\n",
       "        <td> 0.7 </td>\n",
       "        <td> -0.7 </td>\n",
       "        <td> 0.7 </td>\n",
       "        <td>  </td>\n",
       "        <td>  </td>\n",
       "        <td>  </td>\n",
       "    </tr>\n",
       "    <tr>\n",
       "        <th> 2 </th>\n",
       "        <td> th_2 </td>\n",
       "        <td> -4.9 </td>\n",
       "        <td> 1.4 </td>\n",
       "        <td> -1.4 </td>\n",
       "        <td> 1.4 </td>\n",
       "        <td>  </td>\n",
       "        <td>  </td>\n",
       "        <td>  </td>\n",
       "    </tr>\n",
       "</table><table>\n",
       "    <tr>\n",
       "        <td></td>\n",
       "        <th colspan=\"2\" style=\"text-align:center\" title=\"Parameter name\"> th_0 </th>\n",
       "        <th colspan=\"2\" style=\"text-align:center\" title=\"Parameter name\"> th_1 </th>\n",
       "        <th colspan=\"2\" style=\"text-align:center\" title=\"Parameter name\"> th_2 </th>\n",
       "    </tr>\n",
       "    <tr>\n",
       "        <th title=\"Lower and upper minos error of the parameter\"> Error </th>\n",
       "        <td> -0.31 </td>\n",
       "        <td> 0.31 </td>\n",
       "        <td> -0.7 </td>\n",
       "        <td> 0.7 </td>\n",
       "        <td> -1.4 </td>\n",
       "        <td> 1.4 </td>\n",
       "    </tr>\n",
       "    <tr>\n",
       "        <th title=\"Validity of lower/upper minos error\"> Valid </th>\n",
       "        <td style=\"background-color:#92CCA6;color:black\"> True </td>\n",
       "        <td style=\"background-color:#92CCA6;color:black\"> True </td>\n",
       "        <td style=\"background-color:#92CCA6;color:black\"> True </td>\n",
       "        <td style=\"background-color:#92CCA6;color:black\"> True </td>\n",
       "        <td style=\"background-color:#92CCA6;color:black\"> True </td>\n",
       "        <td style=\"background-color:#92CCA6;color:black\"> True </td>\n",
       "    </tr>\n",
       "    <tr>\n",
       "        <th title=\"Did scan hit limit of any parameter?\"> At Limit </th>\n",
       "        <td style=\"background-color:#92CCA6;color:black\"> False </td>\n",
       "        <td style=\"background-color:#92CCA6;color:black\"> False </td>\n",
       "        <td style=\"background-color:#92CCA6;color:black\"> False </td>\n",
       "        <td style=\"background-color:#92CCA6;color:black\"> False </td>\n",
       "        <td style=\"background-color:#92CCA6;color:black\"> False </td>\n",
       "        <td style=\"background-color:#92CCA6;color:black\"> False </td>\n",
       "    </tr>\n",
       "    <tr>\n",
       "        <th title=\"Did scan hit function call limit?\"> Max FCN </th>\n",
       "        <td style=\"background-color:#92CCA6;color:black\"> False </td>\n",
       "        <td style=\"background-color:#92CCA6;color:black\"> False </td>\n",
       "        <td style=\"background-color:#92CCA6;color:black\"> False </td>\n",
       "        <td style=\"background-color:#92CCA6;color:black\"> False </td>\n",
       "        <td style=\"background-color:#92CCA6;color:black\"> False </td>\n",
       "        <td style=\"background-color:#92CCA6;color:black\"> False </td>\n",
       "    </tr>\n",
       "    <tr>\n",
       "        <th title=\"New minimum found when doing scan?\"> New Min </th>\n",
       "        <td style=\"background-color:#92CCA6;color:black\"> False </td>\n",
       "        <td style=\"background-color:#92CCA6;color:black\"> False </td>\n",
       "        <td style=\"background-color:#92CCA6;color:black\"> False </td>\n",
       "        <td style=\"background-color:#92CCA6;color:black\"> False </td>\n",
       "        <td style=\"background-color:#92CCA6;color:black\"> False </td>\n",
       "        <td style=\"background-color:#92CCA6;color:black\"> False </td>\n",
       "    </tr>\n",
       "</table><table>\n",
       "    <tr>\n",
       "        <td></td>\n",
       "        <th> th_0 </th>\n",
       "        <th> th_1 </th>\n",
       "        <th> th_2 </th>\n",
       "    </tr>\n",
       "    <tr>\n",
       "        <th> th_0 </th>\n",
       "        <td> 0.0973 </td>\n",
       "        <td style=\"background-color:rgb(250,250,250);color:black\"> -3.08e-09 </td>\n",
       "        <td style=\"background-color:rgb(172,172,250);color:black\"> -0.262 <strong>(-0.598)</strong> </td>\n",
       "    </tr>\n",
       "    <tr>\n",
       "        <th> th_1 </th>\n",
       "        <td style=\"background-color:rgb(250,250,250);color:black\"> -3.08e-09 </td>\n",
       "        <td> 0.471 </td>\n",
       "        <td style=\"background-color:rgb(250,250,250);color:black\"> 1.94e-09 </td>\n",
       "    </tr>\n",
       "    <tr>\n",
       "        <th> th_2 </th>\n",
       "        <td style=\"background-color:rgb(172,172,250);color:black\"> -0.262 <strong>(-0.598)</strong> </td>\n",
       "        <td style=\"background-color:rgb(250,250,250);color:black\"> 1.94e-09 </td>\n",
       "        <td> 1.97 </td>\n",
       "    </tr>\n",
       "</table>"
      ],
      "text/plain": [
       "┌─────────────────────────────────────────────────────────────────────────┐\n",
       "│                                Migrad                                   │\n",
       "├──────────────────────────────────┬──────────────────────────────────────┤\n",
       "│ FCN = 4.661                      │              Nfcn = 148              │\n",
       "│ EDM = 6.08e-06 (Goal: 0.0002)    │                                      │\n",
       "├──────────────────────────────────┼──────────────────────────────────────┤\n",
       "│          Valid Minimum           │        No Parameters at limit        │\n",
       "├──────────────────────────────────┼──────────────────────────────────────┤\n",
       "│ Below EDM threshold (goal x 10)  │           Below call limit           │\n",
       "├───────────────┬──────────────────┼───────────┬─────────────┬────────────┤\n",
       "│  Covariance   │     Hesse ok     │ Accurate  │  Pos. def.  │ Not forced │\n",
       "└───────────────┴──────────────────┴───────────┴─────────────┴────────────┘\n",
       "┌───┬──────┬───────────┬───────────┬────────────┬────────────┬─────────┬─────────┬───────┐\n",
       "│   │ Name │   Value   │ Hesse Err │ Minos Err- │ Minos Err+ │ Limit-  │ Limit+  │ Fixed │\n",
       "├───┼──────┼───────────┼───────────┼────────────┼────────────┼─────────┼─────────┼───────┤\n",
       "│ 0 │ th_0 │   4.99    │   0.31    │   -0.31    │    0.31    │         │         │       │\n",
       "│ 1 │ th_1 │    1.3    │    0.7    │    -0.7    │    0.7     │         │         │       │\n",
       "│ 2 │ th_2 │   -4.9    │    1.4    │    -1.4    │    1.4     │         │         │       │\n",
       "└───┴──────┴───────────┴───────────┴────────────┴────────────┴─────────┴─────────┴───────┘\n",
       "┌──────────┬───────────────────────┬───────────────────────┬───────────────────────┐\n",
       "│          │         th_0          │         th_1          │         th_2          │\n",
       "├──────────┼───────────┬───────────┼───────────┬───────────┼───────────┬───────────┤\n",
       "│  Error   │   -0.31   │   0.31    │   -0.7    │    0.7    │   -1.4    │    1.4    │\n",
       "│  Valid   │   True    │   True    │   True    │   True    │   True    │   True    │\n",
       "│ At Limit │   False   │   False   │   False   │   False   │   False   │   False   │\n",
       "│ Max FCN  │   False   │   False   │   False   │   False   │   False   │   False   │\n",
       "│ New Min  │   False   │   False   │   False   │   False   │   False   │   False   │\n",
       "└──────────┴───────────┴───────────┴───────────┴───────────┴───────────┴───────────┘\n",
       "┌──────┬───────────────────────────────┐\n",
       "│      │      th_0      th_1      th_2 │\n",
       "├──────┼───────────────────────────────┤\n",
       "│ th_0 │    0.0973 -3.08e-09    -0.262 │\n",
       "│ th_1 │ -3.08e-09     0.471  1.94e-09 │\n",
       "│ th_2 │    -0.262  1.94e-09      1.97 │\n",
       "└──────┴───────────────────────────────┘"
      ]
     },
     "execution_count": 9,
     "metadata": {},
     "output_type": "execute_result"
    }
   ],
   "source": [
    "#Definition of chi^2 above\n",
    "def chi_sq(th_0, th_1, th_2):\n",
    "    return np.sum((y - quadratic(x, th_0, th_1, th_2)) ** 2/ sigma_y ** 2)\n",
    "\n",
    "#Tell Minuit minimizer chi^2 should be minimized\n",
    "chi_sq.errordef = Minuit.LEAST_SQUARES\n",
    "\n",
    "#Initialize a Minuit object to minimize the function and set initial guesses to the parameters, so it converges\n",
    "m = Minuit(chi_sq, th_0 = 5, th_1 = 0, th_2 = -3)\n",
    "\n",
    "#Run the minimization process using the MIGRAD algorithm\n",
    "m.migrad()\n",
    "\n",
    "#Estimate errors with the HESSE algorithm in order to build the covariance matrix\n",
    "m.hesse()\n",
    "\n",
    "#Error analysis with the MINOS algorithm\n",
    "m.minos()"
   ]
  },
  {
   "cell_type": "markdown",
   "metadata": {},
   "source": [
    "As we can see from the Minuit algorithms results, the estimated fit parameters $\\vec \\theta$ agree in both methods if we round our previous fit parameters.\n",
    "The covariance matrix is also compatible with our previous results, as the values on the diagonal and the antidiagonal agree. The other values which appear on the Minuit covariance Matrix are in the order of magnitude of $10^{-9}$ and can therefore be neglected, so they agree with our previous values."
   ]
  },
  {
   "cell_type": "markdown",
   "metadata": {},
   "source": [
    "## Excercise e: p-value for a straight line fit\n",
    "\n",
    "In the last excercise, our goal is to determine the p-value for the fit of a straight line to the sample. This will allow us to make a statement about if a linear function is already sufficient for the description of the data (or if we need the second higher order as before).\n",
    "\n",
    "The procedure is analogous to all the steps discussed in the section with the parabola function fit:"
   ]
  },
  {
   "cell_type": "code",
   "execution_count": 10,
   "metadata": {},
   "outputs": [
    {
     "data": {
      "text/latex": [
       "$p-value = 0.005$"
      ],
      "text/plain": [
       "<IPython.core.display.Latex object>"
      ]
     },
     "metadata": {},
     "output_type": "display_data"
    }
   ],
   "source": [
    "#Define straight line function\n",
    "def st_line(x,a,b):\n",
    "    return a*x + b\n",
    "\n",
    "#Def. matrix A\n",
    "A = np.column_stack((x**0, x))\n",
    "\n",
    "#Def. matrix C\n",
    "C = np.diagflat(sigma_y**2)\n",
    "\n",
    "#Compute the covariance matrix M\n",
    "M = inv(np.transpose(A).dot(inv(C).dot(A)))\n",
    "\n",
    "#Compute the transformation matrix G with def.\n",
    "G = M.dot(np.transpose(A).dot(inv(C)))\n",
    "\n",
    "#Best fit parameters\n",
    "s_fit = G.dot(y)\n",
    "\n",
    "#chi^2_{obs}\n",
    "chi_sq_obs = np.transpose(y - A.dot(s_fit)).dot(inv(C).dot(y - A.dot(s_fit)))\n",
    "\n",
    "# chi^2 with dof=7-2=5, as we now only need 2 fit parameters\n",
    "def chi_sq(c):\n",
    "    return c**(1.5)*np.exp(-c/2)/(2**(2.5)* math.gamma(5/2))\n",
    "\n",
    "# p-value\n",
    "p_value = 1- quad(chi_sq, 0, chi_sq_obs)[0]\n",
    "display(Latex('$p-value = {}$'.format(np.round(p_value,3))))"
   ]
  },
  {
   "cell_type": "markdown",
   "metadata": {},
   "source": [
    "We obtain an extremely small p-value under the threshold of $0.05$. Clearly, we should discard this model and a straight line is insufficient in order to describe the model behind the sample."
   ]
  }
 ],
 "metadata": {
  "kernelspec": {
   "display_name": "Python 3",
   "language": "python",
   "name": "python3"
  },
  "language_info": {
   "codemirror_mode": {
    "name": "ipython",
    "version": 3
   },
   "file_extension": ".py",
   "mimetype": "text/x-python",
   "name": "python",
   "nbconvert_exporter": "python",
   "pygments_lexer": "ipython3",
   "version": "3.7.3"
  }
 },
 "nbformat": 4,
 "nbformat_minor": 4
}
